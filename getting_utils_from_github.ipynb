{
 "cells": [
  {
   "cell_type": "code",
   "execution_count": 39,
   "id": "aa826469-9c4b-444b-b97f-191de70c4355",
   "metadata": {},
   "outputs": [],
   "source": [
    "import requests\n",
    "url = 'https://raw.githubusercontent.com/DrPBaksh/utils/main/utils.py'\n",
    "response = requests.get(url)\n",
    "response.text\n",
    "with open('utils_temp.py', 'w') as f:\n",
    "    f.write(response.text)\n",
    "\n",
    "from utils_temp import first_look_data"
   ]
  },
  {
   "cell_type": "code",
   "execution_count": 40,
   "id": "82416ba0-2f4e-477a-86d8-9202d9a7accc",
   "metadata": {},
   "outputs": [
    {
     "name": "stdout",
     "output_type": "stream",
     "text": [
      "Number of rows :  3\n",
      "Number of columns :  2\n",
      "\n",
      "  \n",
      " Column Data types :\n",
      " A    int64\n",
      "B    int64\n",
      "dtype: object\n",
      "\n",
      " \n",
      " First record :\n",
      " Empty DataFrame\n",
      "Columns: [A, B]\n",
      "Index: []\n",
      "\n",
      " \n",
      "         A    B\n",
      "count  3.0  3.0\n",
      "mean   2.0  5.0\n",
      "std    1.0  1.0\n",
      "min    1.0  4.0\n",
      "25%    1.5  4.5\n",
      "50%    2.0  5.0\n",
      "75%    2.5  5.5\n",
      "max    3.0  6.0\n"
     ]
    }
   ],
   "source": [
    "\n",
    "test = pd.DataFrame({'A': [1, 2, 3], 'B': [4, 5, 6]})\n",
    "first_look_data(test)"
   ]
  },
  {
   "cell_type": "code",
   "execution_count": 7,
   "id": "d3424be0-92ec-4ea8-9485-da082af7d2cc",
   "metadata": {},
   "outputs": [],
   "source": []
  },
  {
   "cell_type": "code",
   "execution_count": 23,
   "id": "2465db1e-0f9a-4153-9856-65be27f2254c",
   "metadata": {},
   "outputs": [
    {
     "name": "stdout",
     "output_type": "stream",
     "text": [
      "Number of rows :  3\n",
      "Number of columns :  2\n",
      "\n",
      "  \n",
      " Column Data types :\n",
      " A    int64\n",
      "B    int64\n",
      "dtype: object\n",
      "\n",
      " \n",
      " First record :\n",
      " Empty DataFrame\n",
      "Columns: [A, B]\n",
      "Index: []\n",
      "\n",
      " \n",
      "         A    B\n",
      "count  3.0  3.0\n",
      "mean   2.0  5.0\n",
      "std    1.0  1.0\n",
      "min    1.0  4.0\n",
      "25%    1.5  4.5\n",
      "50%    2.0  5.0\n",
      "75%    2.5  5.5\n",
      "max    3.0  6.0\n"
     ]
    }
   ],
   "source": []
  },
  {
   "cell_type": "code",
   "execution_count": null,
   "id": "aee8f1cc-6827-4dd1-bf89-fe2b41526742",
   "metadata": {},
   "outputs": [],
   "source": []
  }
 ],
 "metadata": {
  "kernelspec": {
   "display_name": "Python 3 (ipykernel)",
   "language": "python",
   "name": "python3"
  },
  "language_info": {
   "codemirror_mode": {
    "name": "ipython",
    "version": 3
   },
   "file_extension": ".py",
   "mimetype": "text/x-python",
   "name": "python",
   "nbconvert_exporter": "python",
   "pygments_lexer": "ipython3",
   "version": "3.9.12"
  }
 },
 "nbformat": 4,
 "nbformat_minor": 5
}
